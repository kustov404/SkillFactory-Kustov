{
 "cells": [
  {
   "cell_type": "markdown",
   "metadata": {},
   "source": [
    "# Загрузка Pandas и очистка данных"
   ]
  },
  {
   "cell_type": "code",
   "execution_count": 15,
   "metadata": {},
   "outputs": [],
   "source": [
    "import pandas as pd\n",
    "import re\n",
    "from datetime import datetime"
   ]
  },
  {
   "cell_type": "code",
   "execution_count": 16,
   "metadata": {},
   "outputs": [],
   "source": [
    "df = pd.read_csv('main_task_new.csv')"
   ]
  },
  {
   "cell_type": "code",
   "execution_count": 53,
   "metadata": {},
   "outputs": [],
   "source": [
    "df = pd.read_csv('main_task_new.csv')\n",
    "\n",
    "# Ваш код по очистке данных и генерации новых признаков\n",
    "# При необходимости добавьте ячейки\n",
    "\n",
    "# Функция для превращения строки в список в поле \"кухни\"\n",
    "def cuisines_to_list(string):\n",
    "    li = list(string[2:-2].split(\"', '\"))\n",
    "    return li\n",
    "\n",
    "# Заполняем пропуски строкой \" None, \"\n",
    "df['Cuisine Style'] = df['Cuisine Style'].fillna(\"  None, \")\n",
    "\n",
    "# Превращаем кухни из str в list\n",
    "df['Cuisine Style'] = df['Cuisine Style'].apply(lambda x: cuisines_to_list(x))\n",
    "\n",
    "# Считаем по каждому ресторану количество кухонь\n",
    "df['Restaurant Cusines Count'] = df['Cuisine Style'].apply(lambda x: len(x))\n",
    "\n",
    "# Сначала разделим отзывы на отзыв и дату отзыва\n",
    "\n",
    "def split_reviews(string):\n",
    "    li = list(string[2:-2].split(\"], [\"))\n",
    "    return li\n",
    "\n",
    "df['Reviews'] = df['Reviews'].apply(lambda x: split_reviews(x))\n",
    "\n",
    "# Превратим текст отзывов и дату в список\n",
    "\n",
    "def f_reviews(rev):\n",
    "    rev_new = []\n",
    "    \n",
    "    for elem in rev:\n",
    "        rev_new.append(elem[1:-1].split(\"', '\"))\n",
    "    \n",
    "    return rev_new\n",
    "\n",
    "\n",
    "def rev_to_datetime(rev):\n",
    "    rev_new = []\n",
    "    rev_date = []\n",
    "    \n",
    "    for elem in rev[1]:\n",
    "        try:\n",
    "            rev_date.append(datetime.strptime(elem, '%m/%d/%Y'))\n",
    "        except(ValueError, TypeError):\n",
    "            continue\n",
    "            \n",
    "    rev_new.append(rev[0])\n",
    "    rev_new.append(rev_date)\n",
    "    \n",
    "    return rev_new\n",
    "    \n",
    "\n",
    "df['Reviews'] = df['Reviews'].apply(lambda x: f_reviews(x))\n",
    "df['Reviews'] = df['Reviews'].apply(lambda x: rev_to_datetime(x))\n",
    "\n",
    "# Создадим dummy_variables из City\n",
    "df = pd.concat([df.drop('City', axis=1), pd.get_dummies(df['City'], drop_first=True)], axis=1)\n",
    "\n",
    "# Создадим dummy_variables из Price Range\n",
    "df['Price Range'] = df['Price Range'].fillna(\"NotSet\")\n",
    "df = pd.concat([df.drop('Price Range', axis=1), pd.get_dummies(df['Price Range'], drop_first=True)], axis=1)"
   ]
  },
  {
   "cell_type": "code",
   "execution_count": 54,
   "metadata": {},
   "outputs": [],
   "source": [
    "df = df[['Restaurant_id', 'Ranking', 'Rating', 'Number of Reviews', 'Restaurant Cusines Count']]\n",
    "df = df.fillna(0)"
   ]
  },
  {
   "cell_type": "markdown",
   "metadata": {},
   "source": [
    "# Разбиваем датафрейм на части, необходимые для обучения и тестирования модели"
   ]
  },
  {
   "cell_type": "code",
   "execution_count": 55,
   "metadata": {},
   "outputs": [],
   "source": [
    "# Х - данные с информацией о ресторанах, у - целевая переменная (рейтинги ресторанов)\n",
    "X = df.drop(['Restaurant_id', 'Rating'], axis = 1)\n",
    "y = df['Rating']"
   ]
  },
  {
   "cell_type": "code",
   "execution_count": 56,
   "metadata": {},
   "outputs": [],
   "source": [
    "# Загружаем специальный инструмент для разбивки:\n",
    "from sklearn.model_selection import train_test_split"
   ]
  },
  {
   "cell_type": "code",
   "execution_count": 57,
   "metadata": {},
   "outputs": [],
   "source": [
    "# Наборы данных с меткой \"train\" будут использоваться для обучения модели, \"test\" - для тестирования.\n",
    "# Для тестирования мы будем использовать 25% от исходного датасета.\n",
    "X_train, X_test, y_train, y_test = train_test_split(X, y, test_size=0.25)"
   ]
  },
  {
   "cell_type": "markdown",
   "metadata": {},
   "source": [
    "# Создаём, обучаем и тестируем модель"
   ]
  },
  {
   "cell_type": "code",
   "execution_count": 58,
   "metadata": {},
   "outputs": [],
   "source": [
    "# Импортируем необходимые библиотеки:\n",
    "from sklearn.ensemble import RandomForestRegressor # инструмент для создания и обучения модели\n",
    "from sklearn import metrics # инструменты для оценки точности модели"
   ]
  },
  {
   "cell_type": "code",
   "execution_count": 59,
   "metadata": {},
   "outputs": [],
   "source": [
    "# Создаём модель\n",
    "regr = RandomForestRegressor(n_estimators=100)\n",
    "\n",
    "# Обучаем модель на тестовом наборе данных\n",
    "regr.fit(X_train, y_train)\n",
    "\n",
    "# Используем обученную модель для предсказания рейтинга ресторанов в тестовой выборке.\n",
    "# Предсказанные значения записываем в переменную y_pred\n",
    "y_pred = regr.predict(X_test)"
   ]
  },
  {
   "cell_type": "code",
   "execution_count": 60,
   "metadata": {},
   "outputs": [
    {
     "name": "stdout",
     "output_type": "stream",
     "text": [
      "MAE: 0.4138453442460317\n"
     ]
    }
   ],
   "source": [
    "# Сравниваем предсказанные значения (y_pred) с реальными (y_test), и смотрим насколько они в среднем отличаются\n",
    "# Метрика называется Mean Absolute Error (MAE) и показывает среднее отклонение предсказанных значений от фактических.\n",
    "print('MAE:', metrics.mean_absolute_error(y_test, y_pred))"
   ]
  },
  {
   "cell_type": "code",
   "execution_count": null,
   "metadata": {},
   "outputs": [],
   "source": []
  }
 ],
 "metadata": {
  "kernelspec": {
   "display_name": "Python 3",
   "language": "python",
   "name": "python3"
  },
  "language_info": {
   "codemirror_mode": {
    "name": "ipython",
    "version": 3
   },
   "file_extension": ".py",
   "mimetype": "text/x-python",
   "name": "python",
   "nbconvert_exporter": "python",
   "pygments_lexer": "ipython3",
   "version": "3.8.8"
  }
 },
 "nbformat": 4,
 "nbformat_minor": 2
}
